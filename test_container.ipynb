{
 "cells": [
  {
   "cell_type": "code",
   "execution_count": 7,
   "id": "f56e3e7f",
   "metadata": {},
   "outputs": [],
   "source": [
    "#!/usr/bin/env python\n",
    "# coding: utf-8\n",
    "\n",
    "# In[1]:\n",
    "\n",
    "\n",
    "import math\n",
    "import os\n",
    "import numpy as np\n",
    "import matplotlib\n",
    "import matplotlib.pyplot as plt\n",
    "import numpy as np\n",
    "from math import ceil, floor\n",
    "from collections import deque\n",
    "import matplotlib.pyplot as plt\n",
    "import torch\n",
    "import torch.nn as nn\n",
    "import torch.nn.functional as F\n",
    "import torch.optim as optim\n",
    "from torch.distributions import Categorical\n",
    "from torch.distributions import Normal\n",
    "\n"
   ]
  },
  {
   "cell_type": "code",
   "execution_count": 8,
   "id": "9c110e65",
   "metadata": {},
   "outputs": [
    {
     "name": "stdout",
     "output_type": "stream",
     "text": [
      "🔍 Torch version: 2.7.1+cpu\n",
      "🧠 CUDA available: False\n",
      "⚠️ Running on CPU — no GPU found\n",
      "📦 x: tensor([[0.4706, 0.8388, 0.8637],\n",
      "        [0.9608, 0.7908, 0.7453],\n",
      "        [0.3011, 0.9893, 0.5748]])\n",
      "📦 y: tensor([[0.2415, 0.7391, 0.6589],\n",
      "        [0.1043, 0.3589, 0.2196],\n",
      "        [0.1580, 0.3799, 0.0414]])\n",
      "🧮 x + y: tensor([[0.7121, 1.5779, 1.5226],\n",
      "        [1.0651, 1.1498, 0.9649],\n",
      "        [0.4591, 1.3692, 0.6162]])\n"
     ]
    }
   ],
   "source": [
    "print(\"🔍 Torch version:\", torch.__version__)\n",
    "print(\"🧠 CUDA available:\", torch.cuda.is_available())\n",
    "\n",
    "if torch.cuda.is_available():\n",
    "    device = torch.device(\"cuda\")\n",
    "    print(\"✅ Using device:\", torch.cuda.get_device_name(0))\n",
    "else:\n",
    "    device = torch.device(\"cpu\")\n",
    "    print(\"⚠️ Running on CPU — no GPU found\")\n",
    "\n",
    "# Test: kreiraj tensor i prebaci na GPU\n",
    "x = torch.rand(3, 3).to(device)\n",
    "y = torch.rand(3, 3).to(device)\n",
    "z = x + y\n",
    "\n",
    "print(\"📦 x:\", x)\n",
    "print(\"📦 y:\", y)\n",
    "print(\"🧮 x + y:\", z)"
   ]
  },
  {
   "cell_type": "code",
   "execution_count": 9,
   "id": "06b0ae7c",
   "metadata": {},
   "outputs": [
    {
     "name": "stdout",
     "output_type": "stream",
     "text": [
      "🔍 Checking environment...\n",
      "\n",
      "✅ NumPy array sum: 6\n",
      "✅ Rounded floor: 3 Rounded ceil: 4\n",
      "🧠 CUDA available: False\n",
      "⚠️ No GPU detected — running on CPU.\n",
      "✅ Torch Linear output shape: torch.Size([5, 3])\n",
      "🎲 Categorical sample: 3\n",
      "🎲 Normal sample: 2.6923744678497314\n"
     ]
    },
    {
     "name": "stderr",
     "output_type": "stream",
     "text": [
      "C:\\Users\\Korisnik\\AppData\\Local\\Temp\\ipykernel_24136\\1438603658.py:39: UserWarning: Glyph 128444 (\\N{FRAME WITH PICTURE}) missing from font(s) DejaVu Sans.\n",
      "  plt.savefig(\"matplotlib_test.png\")\n"
     ]
    },
    {
     "name": "stdout",
     "output_type": "stream",
     "text": [
      "✅ Matplotlib plot saved as 'matplotlib_test.png'.\n",
      "\n",
      "✅ Environment test complete — all core packages operational!\n"
     ]
    },
    {
     "name": "stderr",
     "output_type": "stream",
     "text": [
      "c:\\Users\\Korisnik\\Documents\\INSTITUTE_MB\\.venv\\lib\\site-packages\\IPython\\core\\pylabtools.py:170: UserWarning: Glyph 128444 (\\N{FRAME WITH PICTURE}) missing from font(s) DejaVu Sans.\n",
      "  fig.canvas.print_figure(bytes_io, **kw)\n"
     ]
    },
    {
     "data": {
      "image/png": "[encoded data removed]",
      "text/plain": [
       "<Figure size 640x480 with 1 Axes>"
      ]
     },
     "metadata": {},
     "output_type": "display_data"
    }
   ],
   "source": [
    "\n",
    "print(\"🔍 Checking environment...\\n\")\n",
    "\n",
    "# Basic numerical operations\n",
    "array = np.array([1, 2, 3])\n",
    "print(\"✅ NumPy array sum:\", np.sum(array))\n",
    "\n",
    "# Math rounding\n",
    "value = 3.678\n",
    "print(\"✅ Rounded floor:\", floor(value), \"Rounded ceil:\", ceil(value))\n",
    "\n",
    "# Torch: GPU availability\n",
    "cuda_available = torch.cuda.is_available()\n",
    "print(\"🧠 CUDA available:\", cuda_available)\n",
    "if cuda_available:\n",
    "    print(\"🚀 GPU name:\", torch.cuda.get_device_name(0))\n",
    "else:\n",
    "    print(\"⚠️ No GPU detected — running on CPU.\")\n",
    "\n",
    "# Torch tensor + NN forward pass\n",
    "x = torch.rand(5, 10)\n",
    "linear = nn.Linear(10, 3)\n",
    "output = linear(x)\n",
    "print(\"✅ Torch Linear output shape:\", output.shape)\n",
    "\n",
    "# Distributions test\n",
    "dist_cat = Categorical(logits=torch.ones(5))\n",
    "sample_cat = dist_cat.sample()\n",
    "print(\"🎲 Categorical sample:\", sample_cat.item())\n",
    "\n",
    "dist_norm = Normal(torch.tensor(0.0), torch.tensor(1.0))\n",
    "sample_norm = dist_norm.sample()\n",
    "print(\"🎲 Normal sample:\", sample_norm.item())\n",
    "\n",
    "# Matplotlib test\n",
    "plt.plot([1, 2, 3], [3, 2, 1], color='skyblue')\n",
    "plt.title(\"🖼️ Matplotlib Test Plot\")\n",
    "plt.xlabel(\"X-axis\")\n",
    "plt.ylabel(\"Y-axis\")\n",
    "plt.savefig(\"matplotlib_test.png\")\n",
    "print(\"✅ Matplotlib plot saved as 'matplotlib_test.png'.\")\n",
    "\n",
    "print(\"\\n✅ Environment test complete — all core packages operational!\")"
   ]
  }
 ],
 "metadata": {
  "kernelspec": {
   "display_name": ".venv",
   "language": "python",
   "name": "python3"
  },
  "language_info": {
   "codemirror_mode": {
    "name": "ipython",
    "version": 3
   },
   "file_extension": ".py",
   "mimetype": "text/x-python",
   "name": "python",
   "nbconvert_exporter": "python",
   "pygments_lexer": "ipython3",
   "version": "3.10.7"
  }
 },
 "nbformat": 4,
 "nbformat_minor": 5
}
