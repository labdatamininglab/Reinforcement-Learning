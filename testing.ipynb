{
 "cells": [
  {
   "cell_type": "code",
   "execution_count": 1,
   "id": "96286cdf",
   "metadata": {},
   "outputs": [],
   "source": [
    "import math\n",
    "import os\n",
    "import numpy as np\n",
    "import matplotlib\n",
    "import matplotlib.pyplot as plt\n",
    "import numpy as np\n",
    "from math import ceil, floor\n",
    "from collections import deque\n",
    "import matplotlib.pyplot as plt\n",
    "import torch\n",
    "import torch.nn as nn\n",
    "import torch.nn.functional as F\n",
    "import torch.optim as optim\n",
    "from torch.distributions import Categorical\n",
    "from torch.distributions import Normal"
   ]
  },
  {
   "cell_type": "code",
   "execution_count": 2,
   "id": "3f853429",
   "metadata": {},
   "outputs": [],
   "source": [
    "# Name of the directory where image files will be store\n",
    "IMAGE_DIRECTORY = 'images'\n",
    "\n",
    "# Names of the possible game scenarios\n",
    "SELFISH = 'selfish'\n",
    "PROSOCIAL = 'prosocial'\n",
    "MIXED = 'mixed'\n",
    "\n",
    "# Create the directory for images if not existing yet\n",
    "if not os.path.exists(IMAGE_DIRECTORY):\n",
    "    os.makedirs(IMAGE_DIRECTORY)"
   ]
  },
  {
   "cell_type": "code",
   "execution_count": 3,
   "id": "55787f4a",
   "metadata": {},
   "outputs": [],
   "source": [
    "class Environment:\n",
    "    def __init__(self, n_pirates=10, n_coins=5):\n",
    "        self.n_pirates = n_pirates\n",
    "        self.n_coins = n_coins\n",
    "        self.decider_rank = 0\n",
    "        self.state = np.zeros(n_pirates)\n",
    "        self.state[self.decider_rank] = 1\n",
    "        self.living_pirates = np.ones(n_pirates, dtype=bool)\n",
    "        print(f\"[INIT] n_pirates={n_pirates}, n_coins={n_coins}\")\n",
    "        print(f\"[INIT] decider_rank={self.decider_rank}, state={self.state}\")\n",
    "\n",
    "    def reset(self):\n",
    "        self.decider_rank = 0\n",
    "        self.state = np.zeros(self.n_pirates)\n",
    "        self.state[self.decider_rank] = 1\n",
    "        self.living_pirates = np.ones(self.n_pirates, dtype=bool)\n",
    "        print(f\"[RESET] decider_rank={self.decider_rank}, state={self.state}\")\n",
    "        return self.state\n",
    "\n",
    "    def step(self, plan, votes):\n",
    "        print(f\"[STEP] decider_rank={self.decider_rank}\")\n",
    "        print(f\"[STEP] plan={plan}\")\n",
    "        print(f\"[STEP] votes={votes}\")\n",
    "\n",
    "        rewards = np.array([1.0] * self.n_pirates)\n",
    "        dones = np.array([False] * self.n_pirates)\n",
    "\n",
    "        self.decider_rank = min(self.decider_rank + 1, self.n_pirates - 1)\n",
    "        self.state = np.zeros(self.n_pirates)\n",
    "        self.state[self.decider_rank] = 1\n",
    "\n",
    "        print(f\"[STEP] new decider_rank={self.decider_rank}, new state={self.state}\")\n",
    "        print(f\"[STEP] rewards={rewards}, dones={dones}\")\n",
    "\n",
    "        return self.state, rewards, dones"
   ]
  },
  {
   "cell_type": "code",
   "execution_count": 4,
   "id": "a4cbf1ae",
   "metadata": {},
   "outputs": [
    {
     "name": "stdout",
     "output_type": "stream",
     "text": [
      "[INIT] n_pirates=10, n_coins=5\n",
      "[INIT] decider_rank=0, state=[1. 0. 0. 0. 0. 0. 0. 0. 0. 0.]\n",
      "<__main__.Environment object at 0x000001A918C03C10>\n"
     ]
    }
   ],
   "source": [
    "env = Environment(10, 5)\n",
    "print(env)"
   ]
  },
  {
   "cell_type": "code",
   "execution_count": 5,
   "id": "5a4e9888",
   "metadata": {},
   "outputs": [],
   "source": [
    "# state, rewards, dones = env.step(plan, votes)"
   ]
  },
  {
   "cell_type": "code",
   "execution_count": 6,
   "id": "dc31fca9",
   "metadata": {},
   "outputs": [],
   "source": [
    "device = torch.device(\"cuda:0\" if torch.cuda.is_available() else \"cpu\")\n",
    "\n",
    "class Planner(nn.Module):\n",
    "    def __init__(self, n_pirates=10, n_coins=5):\n",
    "        super(Planner, self).__init__()\n",
    "        self.n_pirates = n_pirates\n",
    "        self.n_coins = n_coins\n",
    "        self.epsilon = 0.1\n",
    "        print(f\"[Planner INIT] n_pirates={n_pirates}, n_coins={n_coins}\")\n",
    "\n",
    "    def forward(self, x, decider_rank):\n",
    "        print(f\"[Planner FORWARD] Input state: {x}\")\n",
    "        print(f\"[Planner FORWARD] Decider rank: {decider_rank}\")\n",
    "\n",
    "        # Zakucani izlaz: jednostavna raspodela bez računanja\n",
    "        out = torch.ones((1, self.n_pirates * self.n_coins)).to(device)\n",
    "        print(f\"[Planner FORWARD] Output logits: {out}\")\n",
    "        return out\n",
    "\n",
    "    def act(self, state, add_noise=True):\n",
    "        decider_rank = np.argmax(state)\n",
    "        print(f\"[Planner ACT] Decider rank: {decider_rank}\")\n",
    "        print(f\"[Planner ACT] Raw state: {state}\")\n",
    "\n",
    "        state_tensor = torch.from_numpy(state).float().unsqueeze(0).to(device)\n",
    "        logits = self.forward(state_tensor, decider_rank).cpu()\n",
    "        logits = logits.view([-1, self.n_pirates])\n",
    "        probs_total = F.softmax(logits, dim=1)\n",
    "\n",
    "        print(f\"[Planner ACT] Softmax probabilities: {probs_total}\")\n",
    "\n",
    "        m = Categorical(probs_total)\n",
    "\n",
    "        if add_noise and np.random.rand() < self.epsilon:\n",
    "            print(\"[Planner ACT] Using uniform random action due to epsilon\")\n",
    "            proba = torch.ones([self.n_coins, self.n_pirates]) / self.n_pirates\n",
    "            uniform = Categorical(proba)\n",
    "            action = uniform.sample()\n",
    "            log_prob = uniform.log_prob(action)\n",
    "        else:\n",
    "            action = m.sample()\n",
    "            log_prob = m.log_prob(action)\n",
    "\n",
    "        print(f\"[Planner ACT] Action: {action}\")\n",
    "        print(f\"[Planner ACT] Log prob: {log_prob}\")\n",
    "\n",
    "        return action, log_prob"
   ]
  },
  {
   "cell_type": "code",
   "execution_count": 7,
   "id": "acc2cdd9",
   "metadata": {},
   "outputs": [
    {
     "name": "stdout",
     "output_type": "stream",
     "text": [
      "[Planner INIT] n_pirates=10, n_coins=5\n",
      "Planner()\n"
     ]
    }
   ],
   "source": [
    "planer = Planner(10, 5)\n",
    "print(planer)"
   ]
  },
  {
   "cell_type": "code",
   "execution_count": 8,
   "id": "7390db7b",
   "metadata": {},
   "outputs": [
    {
     "name": "stdout",
     "output_type": "stream",
     "text": [
      "[Planner ACT] Decider rank: 0\n",
      "[Planner ACT] Raw state: [1. 0. 0. 0. 0. 0. 0. 0. 0. 0.]\n",
      "[Planner FORWARD] Input state: tensor([[1., 0., 0., 0., 0., 0., 0., 0., 0., 0.]])\n",
      "[Planner FORWARD] Decider rank: 0\n",
      "[Planner FORWARD] Output logits: tensor([[1., 1., 1., 1., 1., 1., 1., 1., 1., 1., 1., 1., 1., 1., 1., 1., 1., 1.,\n",
      "         1., 1., 1., 1., 1., 1., 1., 1., 1., 1., 1., 1., 1., 1., 1., 1., 1., 1.,\n",
      "         1., 1., 1., 1., 1., 1., 1., 1., 1., 1., 1., 1., 1., 1.]])\n",
      "[Planner ACT] Softmax probabilities: tensor([[0.1000, 0.1000, 0.1000, 0.1000, 0.1000, 0.1000, 0.1000, 0.1000, 0.1000,\n",
      "         0.1000],\n",
      "        [0.1000, 0.1000, 0.1000, 0.1000, 0.1000, 0.1000, 0.1000, 0.1000, 0.1000,\n",
      "         0.1000],\n",
      "        [0.1000, 0.1000, 0.1000, 0.1000, 0.1000, 0.1000, 0.1000, 0.1000, 0.1000,\n",
      "         0.1000],\n",
      "        [0.1000, 0.1000, 0.1000, 0.1000, 0.1000, 0.1000, 0.1000, 0.1000, 0.1000,\n",
      "         0.1000],\n",
      "        [0.1000, 0.1000, 0.1000, 0.1000, 0.1000, 0.1000, 0.1000, 0.1000, 0.1000,\n",
      "         0.1000]])\n",
      "[Planner ACT] Action: tensor([4, 9, 3, 2, 1])\n",
      "[Planner ACT] Log prob: tensor([-2.3026, -2.3026, -2.3026, -2.3026, -2.3026])\n"
     ]
    }
   ],
   "source": [
    "state = np.zeros(10)\n",
    "state[0] = 1  # Zakucano stanje: prvi pirat je decision maker\n",
    "\n",
    "action, log_prob = planer.act(state, add_noise=False)"
   ]
  },
  {
   "cell_type": "code",
   "execution_count": 9,
   "id": "1581f9eb",
   "metadata": {},
   "outputs": [],
   "source": [
    "class Voter():\n",
    "    def __init__(self, n_pirates=5, n_coins=10, scenario=SELFISH):\n",
    "        self.n_pirates = n_pirates\n",
    "        self.n_coins = n_coins\n",
    "        self.V = np.zeros([self.n_pirates+1, self.n_pirates])\n",
    "        self.scenario = scenario\n",
    "        self.epsilon = 0.01\n",
    "        print(f\"[Voter INIT] n_pirates={n_pirates}, n_coins={n_coins}, scenario={scenario}\")\n",
    "\n",
    "    def act(self, voter_rank, plan, n_living_pirates, add_noise=True):\n",
    "        print(f\"\\n[Voter ACT] Voter rank: {voter_rank}\")\n",
    "        print(f\"[Voter ACT] Plan: {plan}\")\n",
    "        print(f\"[Voter ACT] Living pirates: {n_living_pirates}\")\n",
    "\n",
    "        pirate_highest_rank = self.n_pirates - n_living_pirates\n",
    "        print(f\"[Voter ACT] Pirate highest rank: {pirate_highest_rank}\")\n",
    "\n",
    "        # Determine behavior\n",
    "        if self.scenario == SELFISH:\n",
    "            behavior = SELFISH\n",
    "        elif self.scenario == PROSOCIAL:\n",
    "            behavior = PROSOCIAL\n",
    "        elif self.scenario == MIXED:\n",
    "            behavior = SELFISH if voter_rank == pirate_highest_rank else PROSOCIAL\n",
    "        else:\n",
    "            raise Exception(\"Scenario %s not implemented\" % self.scenario)\n",
    "\n",
    "        print(f\"[Voter ACT] Behavior: {behavior}\")\n",
    "\n",
    "        if add_noise and np.random.rand() < self.epsilon:\n",
    "            print(\"[Voter ACT] Random noise triggered\")\n",
    "            uniform = Categorical(0.5 * torch.ones([1, 2]))\n",
    "            action = uniform.sample()\n",
    "        else:\n",
    "            if behavior == SELFISH:\n",
    "                gain_plan = plan[voter_rank]\n",
    "                reward_max = self.V[self.n_pirates - n_living_pirates + 1, voter_rank]\n",
    "                print(f\"[Voter ACT] Gain from plan: {gain_plan}\")\n",
    "                print(f\"[Voter ACT] Max reward if planner dies: {reward_max}\")\n",
    "                action = gain_plan > reward_max or gain_plan == self.n_coins\n",
    "            # elif behavior == PROSOCIAL:\n",
    "            #     jain = get_jain_index(plan[-n_living_pirates:])\n",
    "            #     jain_max = get_jain_index_max(n_living_pirates, self.n_coins)\n",
    "            #     jain = round_float(jain, 2)\n",
    "            #     jain_max = round_float(jain_max, 2)\n",
    "            #     first_max = are_max_values_first(plan[-n_living_pirates:])\n",
    "            #     print(f\"[Voter ACT] Jain index: {jain}, Max Jain: {jain_max}\")\n",
    "            #     print(f\"[Voter ACT] First max value: {first_max}\")\n",
    "            #     action = (jain == jain_max) and first_max\n",
    "            else:\n",
    "                raise Exception(\"Scenario %s not implemented\" % self.scenario)\n",
    "\n",
    "        print(f\"[Voter ACT] Final vote: {bool(action)}\")\n",
    "        return bool(action)"
   ]
  },
  {
   "cell_type": "code",
   "execution_count": 10,
   "id": "69b1f4a8",
   "metadata": {},
   "outputs": [
    {
     "name": "stdout",
     "output_type": "stream",
     "text": [
      "[Voter INIT] n_pirates=5, n_coins=10, scenario=selfish\n",
      "\n",
      "[Voter ACT] Voter rank: 1\n",
      "[Voter ACT] Plan: [1, 8, 1, 0, 0]\n",
      "[Voter ACT] Living pirates: 5\n",
      "[Voter ACT] Pirate highest rank: 0\n",
      "[Voter ACT] Behavior: selfish\n",
      "[Voter ACT] Gain from plan: 8\n",
      "[Voter ACT] Max reward if planner dies: 1.0\n",
      "[Voter ACT] Final vote: True\n",
      "Pirate 1 vote: True\n"
     ]
    }
   ],
   "source": [
    "voter = Voter(n_pirates=5, n_coins=10, scenario=SELFISH)\n",
    "voter.V[1] = [1, 1, 2, 3, 3]  # neka hipotetička vrednost ako planer umre\n",
    "\n",
    "plan = [1, 8, 1, 0, 0]  # P-0 uzima sve, ostali ništa\n",
    "vote = voter.act(voter_rank=1, plan=plan, n_living_pirates=5)\n",
    "print(f\"Pirate 1 vote: {vote}\")"
   ]
  },
  {
   "cell_type": "code",
   "execution_count": null,
   "id": "c98f4aeb",
   "metadata": {},
   "outputs": [],
   "source": []
  }
 ],
 "metadata": {
  "kernelspec": {
   "display_name": ".venv",
   "language": "python",
   "name": "python3"
  },
  "language_info": {
   "codemirror_mode": {
    "name": "ipython",
    "version": 3
   },
   "file_extension": ".py",
   "mimetype": "text/x-python",
   "name": "python",
   "nbconvert_exporter": "python",
   "pygments_lexer": "ipython3",
   "version": "3.10.7"
  }
 },
 "nbformat": 4,
 "nbformat_minor": 5
}
